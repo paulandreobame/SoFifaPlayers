{
 "cells": [
  {
   "cell_type": "code",
   "execution_count": 1,
   "id": "326affe6-8d0c-4167-b59b-d10a07724047",
   "metadata": {},
   "outputs": [],
   "source": [
    "from bs4 import BeautifulSoup\n",
    "import requests\n",
    "import pandas as pd"
   ]
  },
  {
   "cell_type": "markdown",
   "id": "f4b9f582-b7dc-496d-b850-9754a781e5cd",
   "metadata": {
    "tags": []
   },
   "source": [
    "## Scrapping Players Link"
   ]
  },
  {
   "cell_type": "code",
   "execution_count": 2,
   "id": "9605f70f-7631-494e-a89b-38245c2cc1e8",
   "metadata": {
    "tags": []
   },
   "outputs": [],
   "source": [
    "r = requests.get('https://sofifa.com/')"
   ]
  },
  {
   "cell_type": "code",
   "execution_count": 3,
   "id": "9d2f741a-1b2d-4bc2-a532-73c67702fba7",
   "metadata": {
    "tags": []
   },
   "outputs": [],
   "source": [
    "soup = BeautifulSoup(r.content, 'html.parser')"
   ]
  },
  {
   "cell_type": "code",
   "execution_count": 4,
   "id": "e0d144b8-e98f-4b92-a88e-3407d886a607",
   "metadata": {
    "collapsed": true,
    "jupyter": {
     "outputs_hidden": true
    },
    "tags": []
   },
   "outputs": [
    {
     "name": "stdout",
     "output_type": "stream",
     "text": [
      "Offset=0\n",
      "Offset=300\n",
      "Offset=600\n",
      "Offset=900\n",
      "Offset=1200\n",
      "Offset=1500\n",
      "Offset=1800\n",
      "Offset=2100\n",
      "Offset=2400\n",
      "Offset=2700\n",
      "Offset=3000\n",
      "Offset=3300\n",
      "Offset=3600\n",
      "Offset=3900\n",
      "Offset=4200\n",
      "Offset=4500\n",
      "Offset=4800\n",
      "Offset=5100\n",
      "Offset=5400\n",
      "Offset=5700\n",
      "Offset=6000\n",
      "Offset=6300\n",
      "Offset=6600\n",
      "Offset=6900\n",
      "Offset=7200\n",
      "Offset=7500\n",
      "Offset=7800\n",
      "Offset=8100\n",
      "Offset=8400\n",
      "Offset=8700\n",
      "Offset=9000\n",
      "Offset=9300\n",
      "Offset=9600\n",
      "Offset=9900\n",
      "Offset=10200\n",
      "Offset=10500\n",
      "Offset=10800\n",
      "Offset=11100\n",
      "Offset=11400\n",
      "Offset=11700\n",
      "Offset=12000\n",
      "Offset=12300\n",
      "Offset=12600\n",
      "Offset=12900\n",
      "Offset=13200\n",
      "Offset=13500\n",
      "Offset=13800\n",
      "Offset=14100\n",
      "Offset=14400\n",
      "Offset=14700\n",
      "Offset=15000\n",
      "Offset=15300\n",
      "Offset=15600\n",
      "Offset=15900\n",
      "Offset=16200\n",
      "Offset=16500\n",
      "Offset=16800\n",
      "Offset=17100\n",
      "Offset=17400\n",
      "Offset=17700\n",
      "Offset=18000\n",
      "Offset=18300\n",
      "Offset=18600\n",
      "Offset=18900\n",
      "Offset=19200\n",
      "Offset=19500\n",
      "Offset=19800\n",
      "CPU times: user 7min 51s, sys: 919 ms, total: 7min 52s\n",
      "Wall time: 9min 7s\n"
     ]
    }
   ],
   "source": [
    "%%time\n",
    "links = []\n",
    "for i in range(0,20000,60):\n",
    "    \n",
    "    \n",
    "    r = requests.get(f'https://sofifa.com/?offset={i}')\n",
    "    soup = BeautifulSoup(r.content, 'html.parser')\n",
    "    \n",
    "    if i%100 == 0:\n",
    "        print(f\"Offset={i}\")\n",
    "    \n",
    "    for j in range(0,120,2):\n",
    "        link = soup.select('tr td.col-name')[j].select('a')[0].get('href')\n",
    "        links.append(link)\n",
    "    \n",
    "    "
   ]
  },
  {
   "cell_type": "code",
   "execution_count": 5,
   "id": "d546774f-7e10-4ef4-a27e-fa3254c97566",
   "metadata": {
    "tags": []
   },
   "outputs": [
    {
     "data": {
      "text/plain": [
       "20040"
      ]
     },
     "execution_count": 5,
     "metadata": {},
     "output_type": "execute_result"
    }
   ],
   "source": [
    "len(links)"
   ]
  },
  {
   "cell_type": "code",
   "execution_count": 6,
   "id": "ce32e18f-8f88-44f4-9abc-75e8fa4a9e3e",
   "metadata": {
    "tags": []
   },
   "outputs": [],
   "source": [
    "links = list(set(links))"
   ]
  },
  {
   "cell_type": "code",
   "execution_count": 7,
   "id": "18701b31-a1b2-46de-bc61-f8bb926d384f",
   "metadata": {
    "tags": []
   },
   "outputs": [],
   "source": [
    "links = ['https://sofifa.com'+i for i in links]\n",
    "players_names = [i.split('/')[5] for i in links]\n",
    "players_names = [i.replace('-',' ') for i in players_names]"
   ]
  },
  {
   "cell_type": "code",
   "execution_count": 11,
   "id": "fb413b25-d3fe-4c2c-9625-522a8abc7789",
   "metadata": {
    "tags": []
   },
   "outputs": [],
   "source": [
    "#Récupération du nom des attributs qui sont les mêmes pour chaque joueur\n",
    "\n",
    "r = requests.get(links[0])\n",
    "soup = BeautifulSoup(r.content, 'html.parser')\n",
    "attrs = soup.select('div.block-quarter ul.pl li span')[7:75:2]\n",
    "attrs_name = [i.text for i in attrs]"
   ]
  },
  {
   "cell_type": "code",
   "execution_count": 13,
   "id": "f6a4a14e-3caf-4dac-a174-bcd3d684e19c",
   "metadata": {
    "tags": []
   },
   "outputs": [
    {
     "data": {
      "text/plain": [
       "['Crossing', 'Finishing', 'Heading Accuracy', 'Short Passing', 'Volleys']"
      ]
     },
     "execution_count": 13,
     "metadata": {},
     "output_type": "execute_result"
    }
   ],
   "source": [
    "attrs_name[:5]"
   ]
  },
  {
   "cell_type": "markdown",
   "id": "b1a69598-01ce-42cb-ba37-2bc5a6c5d47a",
   "metadata": {},
   "source": [
    "## Scrapping Players Infos"
   ]
  },
  {
   "cell_type": "code",
   "execution_count": null,
   "id": "74002884-4102-4fac-a2d2-458cd6834ae8",
   "metadata": {},
   "outputs": [
    {
     "name": "stdout",
     "output_type": "stream",
     "text": [
      "Nombre de joueurs scrapés: 1000\n",
      "Nombre de joueurs scrapés: 2000\n",
      "Nombre de joueurs scrapés: 3000\n"
     ]
    }
   ],
   "source": [
    "%%time\n",
    "\n",
    "players_ratings = []\n",
    "compteur = 0\n",
    "\n",
    "for p in links:\n",
    "    r = requests.get(p)\n",
    "    soup = BeautifulSoup(r.content, 'html.parser') \n",
    "      \n",
    "    \n",
    "    attrib = soup.select('div.block-quarter ul.pl li span.bp3-tag.p')[1:]\n",
    "    ratings = [int(i.text) for i in attrib]\n",
    "    \n",
    "    \n",
    "    \n",
    "    compteur+= 1\n",
    "    if compteur % 1000 == 0:\n",
    "        \n",
    "        print(f\"Nombre de joueurs scrapés: {compteur}\")\n",
    "    players_ratings.append(ratings)\n"
   ]
  },
  {
   "cell_type": "code",
   "execution_count": 90,
   "id": "d3ab9038-9e7f-47ae-9019-f4bb49cc9540",
   "metadata": {},
   "outputs": [],
   "source": [
    "df = pd.DataFrame(data = players_ratings)\n",
    "df.drop(columns = '34', inplace=True)\n",
    "df.columns = attrs_name\n",
    "df.insert(0, 'Player_Name', players_names)"
   ]
  },
  {
   "cell_type": "code",
   "execution_count": null,
   "id": "cf339160-e205-4a2d-81f6-e26887ccf942",
   "metadata": {},
   "outputs": [],
   "source": [
    "%%time\n",
    "\n",
    "overall_ratings = []\n",
    "potentials = []\n",
    "market_value = []\n",
    "best_positions = []\n",
    "salaries = []\n",
    "ages = []\n",
    "\n",
    "compteur = 0\n",
    "\n",
    "for p in links:\n",
    "    r = requests.get(p)\n",
    "    soup = BeautifulSoup(r.content, 'html.parser') \n",
    "    \n",
    "    ov_ratings = soup.select('div.block-quarter')[0].text\n",
    "    age = soup.select('div.meta.ellipsis')[0].text\n",
    "    potential = soup.select('div.block-quarter span.bp3-tag.p')[1].text\n",
    "    value = soup.select('div.block-quarter')[2].select('div')[0].text\n",
    "    position = soup.select('li.ellipsis span.pos')[0].text\n",
    "    salary = soup.select('div.block-quarter')[3].select('div')[0].text\n",
    "    \n",
    "    overall_ratings.append(ov_ratings)\n",
    "    ages.append(age)\n",
    "    potentials.append(potential)\n",
    "    market_value.append(value)\n",
    "    best_positions.append(position)\n",
    "    salaries.append(salary)\n",
    "    \n",
    "    compteur+=1\n",
    "    \n",
    "    if compteur % 1000 == 0:\n",
    "        print(f'{compteur} joueurs scrapés')"
   ]
  },
  {
   "cell_type": "code",
   "execution_count": null,
   "id": "d4874120-432b-450d-9db4-04b139e891e9",
   "metadata": {},
   "outputs": [],
   "source": [
    "df.insert(1,'Age',ages)\n",
    "df.insert(2,'Position',best_positions)\n",
    "df.insert(3,'Market_Value',market_value)\n",
    "df.insert(4,'Salary',salaries)\n",
    "df.insert(5,'Overall_ratings', overall_ratings)\n",
    "df.insert(6,'Potential',potentials)"
   ]
  },
  {
   "cell_type": "code",
   "execution_count": null,
   "id": "01466c8a-0c56-4fae-b717-d870d99b83f7",
   "metadata": {},
   "outputs": [],
   "source": [
    "df.to_csv('players_data.csv')"
   ]
  }
 ],
 "metadata": {
  "kernelspec": {
   "display_name": "Python 3.9.7 ('base')",
   "language": "python",
   "name": "python3"
  },
  "language_info": {
   "codemirror_mode": {
    "name": "ipython",
    "version": 3
   },
   "file_extension": ".py",
   "mimetype": "text/x-python",
   "name": "python",
   "nbconvert_exporter": "python",
   "pygments_lexer": "ipython3",
   "version": "3.9.7"
  },
  "vscode": {
   "interpreter": {
    "hash": "9341bdd60ce6572ab87b4dafd92d22b486c4ef13541f506f2bed250a59bd711c"
   }
  }
 },
 "nbformat": 4,
 "nbformat_minor": 5
}
