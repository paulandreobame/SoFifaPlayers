{
 "cells": [
  {
   "cell_type": "code",
   "execution_count": 44,
   "metadata": {},
   "outputs": [
    {
     "name": "stdout",
     "output_type": "stream",
     "text": [
      "Importing librairies...\n",
      "...Done!\n"
     ]
    }
   ],
   "source": [
    "# Import your libraries here\n",
    "print('Importing librairies...')\n",
    "import os\n",
    "import logging\n",
    "import scrapy\n",
    "from scrapy.crawler import CrawlerProcess\n",
    "from bs4 import BeautifulSoup\n",
    "import requests\n",
    "import pandas as pd\n",
    "print('...Done!')"
   ]
  },
  {
   "cell_type": "code",
   "execution_count": 45,
   "metadata": {},
   "outputs": [
    {
     "data": {
      "text/plain": [
       "<Response [200]>"
      ]
     },
     "execution_count": 45,
     "metadata": {},
     "output_type": "execute_result"
    }
   ],
   "source": [
    "url = 'https://sofifa.com/players'\n",
    "r = requests.get(url)\n",
    "r"
   ]
  },
  {
   "cell_type": "code",
   "execution_count": 6,
   "metadata": {},
   "outputs": [],
   "source": [
    "soup = BeautifulSoup(r.text,'html.parser')"
   ]
  },
  {
   "cell_type": "code",
   "execution_count": 49,
   "metadata": {},
   "outputs": [
    {
     "name": "stdout",
     "output_type": "stream",
     "text": [
      "Offset : 0\n",
      "Offset : 300\n",
      "Offset : 600\n",
      "Offset : 900\n",
      "Offset : 1200\n",
      "Offset : 1500\n",
      "Offset : 1800\n",
      "Offset : 2100\n",
      "Offset : 2400\n",
      "Offset : 2700\n",
      "Offset : 3000\n",
      "Offset : 3300\n",
      "Offset : 3600\n",
      "Offset : 3900\n",
      "Offset : 4200\n",
      "Offset : 4500\n",
      "Offset : 4800\n",
      "Offset : 5100\n",
      "Offset : 5400\n",
      "Offset : 5700\n",
      "Offset : 6000\n",
      "Offset : 6300\n",
      "Offset : 6600\n",
      "Offset : 6900\n",
      "Offset : 7200\n",
      "Offset : 7500\n",
      "Offset : 7800\n",
      "Offset : 8100\n",
      "Offset : 8400\n",
      "Offset : 8700\n",
      "Offset : 9000\n",
      "Offset : 9300\n",
      "Offset : 9600\n",
      "Offset : 9900\n",
      "Offset : 10200\n",
      "Offset : 10500\n",
      "Offset : 10800\n",
      "Offset : 11100\n",
      "Offset : 11400\n",
      "Offset : 11700\n",
      "Offset : 12000\n",
      "Offset : 12300\n",
      "Offset : 12600\n",
      "Offset : 12900\n",
      "Offset : 13200\n",
      "Offset : 13500\n",
      "Offset : 13800\n",
      "Offset : 14100\n",
      "Offset : 14400\n",
      "Offset : 14700\n",
      "Offset : 15000\n",
      "Offset : 15300\n",
      "Offset : 15600\n",
      "Offset : 15900\n",
      "Offset : 16200\n",
      "Offset : 16500\n",
      "Offset : 16800\n",
      "Offset : 17100\n",
      "Offset : 17400\n",
      "Offset : 17700\n",
      "Offset : 18000\n",
      "Offset : 18300\n",
      "Offset : 18600\n",
      "Offset : 18900\n",
      "Offset : 19200\n",
      "Offset : 19500\n",
      "Offset : 19800\n",
      "Offset : 20100\n",
      "Offset : 20400\n",
      "Offset : 20700\n",
      "Offset : 21000\n",
      "Offset : 21300\n",
      "Offset : 21600\n",
      "Offset : 21900\n",
      "Offset : 22200\n",
      "Offset : 22500\n",
      "Offset : 22800\n",
      "Offset : 23100\n",
      "Offset : 23400\n",
      "Offset : 23700\n",
      "Offset : 24000\n",
      "Offset : 24300\n",
      "Offset : 24600\n",
      "Offset : 24900\n",
      "Offset : 25200\n",
      "Offset : 25500\n",
      "Offset : 25800\n",
      "Offset : 26100\n",
      "Offset : 26400\n",
      "Offset : 26700\n",
      "Offset : 27000\n",
      "Offset : 27300\n",
      "Offset : 27600\n",
      "Offset : 27900\n",
      "Offset : 28200\n",
      "Offset : 28500\n",
      "Offset : 28800\n",
      "Offset : 29100\n",
      "Offset : 29400\n",
      "Offset : 29700\n",
      "Offset : 30000\n",
      "Offset : 30300\n",
      "Offset : 30600\n",
      "Offset : 30900\n",
      "Offset : 31200\n",
      "Offset : 31500\n",
      "Offset : 31800\n",
      "Offset : 32100\n",
      "Offset : 32400\n",
      "Offset : 32700\n",
      "Offset : 33000\n",
      "Offset : 33300\n",
      "Offset : 33600\n",
      "Offset : 33900\n",
      "Offset : 34200\n",
      "Offset : 34500\n",
      "Offset : 34800\n",
      "Offset : 35100\n",
      "Offset : 35400\n",
      "Offset : 35700\n",
      "Offset : 36000\n",
      "Offset : 36300\n",
      "Offset : 36600\n",
      "Offset : 36900\n",
      "Offset : 37200\n",
      "Offset : 37500\n",
      "Offset : 37800\n",
      "Offset : 38100\n",
      "Offset : 38400\n",
      "Offset : 38700\n",
      "Offset : 39000\n",
      "Offset : 39300\n",
      "Offset : 39600\n",
      "Offset : 39900\n",
      "Offset : 40200\n",
      "Offset : 40500\n",
      "Offset : 40800\n",
      "Offset : 41100\n",
      "Offset : 41400\n",
      "Offset : 41700\n",
      "Offset : 42000\n",
      "Offset : 42300\n",
      "Offset : 42600\n",
      "Offset : 42900\n",
      "Offset : 43200\n",
      "Offset : 43500\n",
      "Offset : 43800\n",
      "Offset : 44100\n",
      "Offset : 44400\n",
      "Offset : 44700\n",
      "Offset : 45000\n",
      "Offset : 45300\n",
      "Offset : 45600\n",
      "Offset : 45900\n",
      "Offset : 46200\n",
      "Offset : 46500\n",
      "Offset : 46800\n",
      "Offset : 47100\n",
      "Offset : 47400\n",
      "Offset : 47700\n",
      "Offset : 48000\n",
      "Offset : 48300\n",
      "Offset : 48600\n",
      "Offset : 48900\n"
     ]
    }
   ],
   "source": [
    "links = []\n",
    "for i in range(0,20000,60):\n",
    "    urls = f'https://sofifa.com?offset={i}'\n",
    "    r = requests.get(urls)\n",
    "    soup = BeautifulSoup(r.text,'html.parser')\n",
    "\n",
    "    if i%100 == 0:\n",
    "        print(f'Offset : {i}')\n",
    "\n",
    "    for j in range(0,120,2):\n",
    "        link = soup.select('tr td.col-name')[j].select('a')[0].get('href')\n",
    "        links.append(link)"
   ]
  },
  {
   "cell_type": "code",
   "execution_count": 57,
   "metadata": {},
   "outputs": [],
   "source": [
    "player_link = list(set(links))"
   ]
  },
  {
   "cell_type": "code",
   "execution_count": 62,
   "metadata": {},
   "outputs": [],
   "source": [
    "with open(\"players_link.text\", 'w') as output:\n",
    "    for row in player_link:\n",
    "        output.write(str(row) + ',')"
   ]
  },
  {
   "cell_type": "code",
   "execution_count": null,
   "metadata": {},
   "outputs": [],
   "source": [
    "pd."
   ]
  },
  {
   "cell_type": "code",
   "execution_count": null,
   "metadata": {},
   "outputs": [],
   "source": []
  }
 ],
 "metadata": {
  "kernelspec": {
   "display_name": "Python 3.9.7 ('base')",
   "language": "python",
   "name": "python3"
  },
  "language_info": {
   "codemirror_mode": {
    "name": "ipython",
    "version": 3
   },
   "file_extension": ".py",
   "mimetype": "text/x-python",
   "name": "python",
   "nbconvert_exporter": "python",
   "pygments_lexer": "ipython3",
   "version": "3.9.7"
  },
  "orig_nbformat": 4,
  "vscode": {
   "interpreter": {
    "hash": "9341bdd60ce6572ab87b4dafd92d22b486c4ef13541f506f2bed250a59bd711c"
   }
  }
 },
 "nbformat": 4,
 "nbformat_minor": 2
}
